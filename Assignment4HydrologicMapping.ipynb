{
 "cells": [
  {
   "cell_type": "markdown",
   "metadata": {},
   "source": [
    "# Assignment 4: Hydrologic Mapping\n"
   ]
  },
  {
   "cell_type": "code",
   "execution_count": 2,
   "metadata": {
    "collapsed": true
   },
   "outputs": [],
   "source": [
    "# Import numerical tools\n",
    "import numpy as np\n",
    "\n",
    "#This imports the statistics of the normal distribution\n",
    "from scipy.stats import norm\n",
    "\n",
    "# Import pyplot for plotting\n",
    "import matplotlib.pyplot as plt\n",
    "\n",
    "#Import seaborn (useful for plotting)\n",
    "import seaborn as sns\n",
    "\n",
    "# Magic function to make matplotlib inline; other style specs must come AFTER\n",
    "%matplotlib inline\n",
    "\n",
    "%config InlineBackend.figure_formats = {'svg',}"
   ]
  },
  {
   "cell_type": "markdown",
   "metadata": {},
   "source": [
    "## Data entry\n",
    "Here I've decided to enter the data as a matrix, in which each row represents a different station (A-D) and each column represents a different date (3/13-3/19). Units of the data are inches."
   ]
  },
  {
   "cell_type": "code",
   "execution_count": 4,
   "metadata": {
    "collapsed": false
   },
   "outputs": [
    {
     "name": "stdout",
     "output_type": "stream",
     "text": [
      "[[ 0.8   1.56  1.    4.2   0.92  1.08  0.08]\n",
      " [ 0.    1.58  1.36  1.92  3.61  0.85  0.67]\n",
      " [ 0.15  1.61  0.43  2.21  0.5   0.25  0.  ]\n",
      " [ 0.88  2.4   1.04  3.84  0.84  1.64  0.12]]\n"
     ]
    }
   ],
   "source": [
    "data = np.matrix('0.8 1.56 1 4.2 .92 1.08 0.08; 0 1.58 1.36 1.92 3.61 0.85 0.67; 0.15 1.61 0.43 2.21 0.5 0.25 0; 0.88 2.4 1.04 3.84 0.84 1.64 0.12')\n",
    "print(data)"
   ]
  },
  {
   "cell_type": "markdown",
   "metadata": {},
   "source": [
    "## Thiessen Polygon Method\n",
    "Remember that you can copy and paste code for plotting the hyetogram from the 2/2/17 Jupyter Notebook we worked through in class."
   ]
  },
  {
   "cell_type": "code",
   "execution_count": null,
   "metadata": {
    "collapsed": false
   },
   "outputs": [],
   "source": []
  },
  {
   "cell_type": "markdown",
   "metadata": {},
   "source": [
    "## Inverse distance weighting method"
   ]
  },
  {
   "cell_type": "code",
   "execution_count": null,
   "metadata": {
    "collapsed": false
   },
   "outputs": [],
   "source": []
  },
  {
   "cell_type": "markdown",
   "metadata": {},
   "source": [
    "## Isohyetal method, day 3 of the storm"
   ]
  },
  {
   "cell_type": "code",
   "execution_count": null,
   "metadata": {
    "collapsed": false
   },
   "outputs": [],
   "source": []
  }
 ],
 "metadata": {
  "kernelspec": {
   "display_name": "Python [default]",
   "language": "python",
   "name": "python3"
  },
  "language_info": {
   "codemirror_mode": {
    "name": "ipython",
    "version": 3
   },
   "file_extension": ".py",
   "mimetype": "text/x-python",
   "name": "python",
   "nbconvert_exporter": "python",
   "pygments_lexer": "ipython3",
   "version": "3.5.2"
  }
 },
 "nbformat": 4,
 "nbformat_minor": 1
}

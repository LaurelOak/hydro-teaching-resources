{
 "cells": [
  {
   "cell_type": "markdown",
   "metadata": {},
   "source": [
    "# Supplemental information for Assignment 5 (Strawberry Creek Discharge assignment)\n",
    "\n",
    "Here we will look at two different ways to encode a solution for discharge using the cross-sectional area method. Keep in mind that these techniques also apply to the dilution gaging exercise, where, instead of calculating and adding incremental discharge values, you will be calculating and adding incremental fluxes.\n",
    "\n",
    "## Example setup\n",
    "Let's say that we have divided a stream cross-section into thirds, and that we have velocity and depth measurements at two points across the stream (i.e., the interior edges of the three sections), as shown on the diagram in the assignment text and reproduced below.\n",
    "\n",
    "<img src=\"CrossSection.png\">\n",
    "\n",
    "The data table in the assignment is reproduced in [example.csv](https://drive.google.com/file/d/0BzoZUD3hISA4RmFGbTJQOG81OFk/view?usp=sharing). Make sure you specify the correct directory when the file is read in below.\n",
    "\n",
    "First, as always, let us load in the libraries that we need..."
   ]
  },
  {
   "cell_type": "code",
   "execution_count": 1,
   "metadata": {
    "collapsed": true
   },
   "outputs": [],
   "source": [
    "# Import numerical tools\n",
    "import numpy as np\n",
    "\n",
    "#Import pandas for reading in and managing data\n",
    "import pandas as pd\n",
    "\n",
    "# Import pyplot for plotting\n",
    "import matplotlib.pyplot as plt\n",
    "\n",
    "#Import seaborn (useful for plotting)\n",
    "import seaborn as sns\n",
    "\n",
    "# Magic function to make matplotlib inline; other style specs must come AFTER\n",
    "%matplotlib inline\n",
    "\n",
    "%config InlineBackend.figure_formats = {'svg',}\n",
    "#%config InlineBackend.figure_formats = {'png', 'retina'}"
   ]
  },
  {
   "cell_type": "markdown",
   "metadata": {},
   "source": [
    "Now let's read in and examine the datafile..."
   ]
  },
  {
   "cell_type": "code",
   "execution_count": 2,
   "metadata": {
    "collapsed": false
   },
   "outputs": [
    {
     "data": {
      "text/html": [
       "<div>\n",
       "<table border=\"1\" class=\"dataframe\">\n",
       "  <thead>\n",
       "    <tr style=\"text-align: right;\">\n",
       "      <th></th>\n",
       "      <th>Position on tape (m)</th>\n",
       "      <th>Station number on current meter</th>\n",
       "      <th>Depth (cm)</th>\n",
       "      <th>Velocity (cm/s)</th>\n",
       "      <th>Notes</th>\n",
       "    </tr>\n",
       "  </thead>\n",
       "  <tbody>\n",
       "    <tr>\n",
       "      <th>0</th>\n",
       "      <td>0.0</td>\n",
       "      <td>NaN</td>\n",
       "      <td>0</td>\n",
       "      <td>0.0</td>\n",
       "      <td>LEW</td>\n",
       "    </tr>\n",
       "    <tr>\n",
       "      <th>1</th>\n",
       "      <td>0.2</td>\n",
       "      <td>1.0</td>\n",
       "      <td>5</td>\n",
       "      <td>0.7</td>\n",
       "      <td>BND poor, measurement repeated</td>\n",
       "    </tr>\n",
       "    <tr>\n",
       "      <th>2</th>\n",
       "      <td>0.4</td>\n",
       "      <td>2.0</td>\n",
       "      <td>10</td>\n",
       "      <td>1.1</td>\n",
       "      <td>NaN</td>\n",
       "    </tr>\n",
       "    <tr>\n",
       "      <th>3</th>\n",
       "      <td>0.6</td>\n",
       "      <td>NaN</td>\n",
       "      <td>0</td>\n",
       "      <td>0.0</td>\n",
       "      <td>REW</td>\n",
       "    </tr>\n",
       "  </tbody>\n",
       "</table>\n",
       "</div>"
      ],
      "text/plain": [
       "   Position on tape (m)  Station number on current meter  Depth (cm)  \\\n",
       "0                   0.0                              NaN           0   \n",
       "1                   0.2                              1.0           5   \n",
       "2                   0.4                              2.0          10   \n",
       "3                   0.6                              NaN           0   \n",
       "\n",
       "   Velocity (cm/s)                           Notes  \n",
       "0              0.0                             LEW  \n",
       "1              0.7  BND poor, measurement repeated  \n",
       "2              1.1                             NaN  \n",
       "3              0.0                             REW  "
      ]
     },
     "execution_count": 2,
     "metadata": {},
     "output_type": "execute_result"
    }
   ],
   "source": [
    "# Use pd.read_csv() to read in the data and store in a DataFrame\n",
    "fname = 'example.csv' #If you have not saved the file in your \"current\" directory, you will\n",
    "#need to specify the full path here\n",
    "df = pd.read_csv(fname)\n",
    "df.head()"
   ]
  },
  {
   "cell_type": "markdown",
   "metadata": {},
   "source": [
    "## Solving for discharge\n",
    "We will now solve for discharge in two ways: 1) Using a for loop, and 2) Using an array. The two methods are equivalent here, but the second is much more computationally efficient. While you will not notice a difference in run-time for this small dataset, it would make a substantial difference if you were dealing with a much larger dataset.\n",
    "\n",
    "But first, let's read in the columns that we need from the data table above, as this is a step that needs to be taken for both methods:"
   ]
  },
  {
   "cell_type": "code",
   "execution_count": 4,
   "metadata": {
    "collapsed": true
   },
   "outputs": [],
   "source": [
    "y = df['Position on tape (m)'] #Define the y-coordinate as the distance across the stream from LEW.\n",
    "d = df['Depth (cm)']\n",
    "v = df['Velocity (cm/s)']\n",
    "#Now we have three arrays: position, depth, and velocity"
   ]
  },
  {
   "cell_type": "markdown",
   "metadata": {},
   "source": [
    "### Using FOR loops"
   ]
  },
  {
   "cell_type": "markdown",
   "metadata": {},
   "source": [
    "#### Method 1A\n",
    "Here we will calculate incremental discharge, section by section, and add it to our running total discharge, Q_running."
   ]
  },
  {
   "cell_type": "code",
   "execution_count": 6,
   "metadata": {
    "collapsed": false
   },
   "outputs": [
    {
     "name": "stdout",
     "output_type": "stream",
     "text": [
      "207.5\n"
     ]
    }
   ],
   "source": [
    "#Initialize the running discharge.\n",
    "Q_run = 0\n",
    "for i in range(len(y)-1): #Remember this index starts with 0 and will end with 2. We added the\n",
    "    #'-1' because each polygon for which we are calculating incremental discharge has two edges,\n",
    "    #so there is one less polygon than there are lines in our table.\n",
    "    \n",
    "    #Below, we calculate incremental discharge as average depth*average velocity*width of increment\n",
    "    #(converted to cm from m)\n",
    "    Q_incremental = (d[i]+d[i+1])/2*(v[i]+v[i+1])/2*(y[i+1]-y[i])*100 # [cm^3/s]\n",
    "    Q_run = Q_run + Q_incremental #Add the incremental discharge to the running total\n",
    "    \n",
    "Q = Q_run #Final discharge = running total discharge after moving through every polygon in the \n",
    "#cross-section\n",
    "print(Q)\n"
   ]
  },
  {
   "cell_type": "markdown",
   "metadata": {},
   "source": [
    "Here is a common coding mistake to avoid: Notice the parentheses within the **for** statement above. A common mistake might be to instead write `for i in range(len(y-1)):`. This would be wrong, because it would first evaluate `y-1`, which will return the array `[-1.0, -0.8, -0.6, -0.4]`, and then it would evaluate the length of that array, which is 4. `range(4)` would then return the values 0 through 3, which is one more value than we intended to loop through. With the code instead written correctly as in the cell above, `len(y)` is first evaluated (returning 4), and then 1 is subtracted from 4 to obtain `range(3)`, giving us values 0 through 2.\n",
    "\n",
    "#### Method 1B\n",
    "Here we will save each incremental discharge as an array, and then add all of the incremental discharges together at the end (rather than within the for-loop) to get total discharge."
   ]
  },
  {
   "cell_type": "code",
   "execution_count": 11,
   "metadata": {
    "collapsed": false
   },
   "outputs": [
    {
     "name": "stdout",
     "output_type": "stream",
     "text": [
      "207.5\n"
     ]
    }
   ],
   "source": [
    "# Initialize the array of incremental discharges.\n",
    "Q_incremental = np.zeros(len(y)-1) #Again, this will be one row smaller than your data table,\n",
    "#since each row in the data table represents an edge of the polygon, while your incremental\n",
    "#discharge applies to each polygon itself.\n",
    "for i in range(len(y)-1): \n",
    "    Q_incremental[i] = (d[i]+d[i+1])/2*(v[i]+v[i+1])/2*(y[i+1]-y[i])*100 # [cm^3/s]\n",
    "    \n",
    "#Now, outside of the for loop, add all of the incremental discharges together.\n",
    "Q = np.sum(Q_incremental)\n",
    "print(Q)"
   ]
  },
  {
   "cell_type": "markdown",
   "metadata": {},
   "source": [
    "### Using array operations\n",
    "Finally, we can avoid using for loops altogether by simply adding elements that are in arrays. First, we want to convert our data frame columns to numpy arrays (because if you just pull certain rows out of a data frame array, pandas thinks that the original indices still apply)."
   ]
  },
  {
   "cell_type": "code",
   "execution_count": 33,
   "metadata": {
    "collapsed": false
   },
   "outputs": [
    {
     "name": "stdout",
     "output_type": "stream",
     "text": [
      "207.5\n"
     ]
    }
   ],
   "source": [
    "#First, create arrays that represent the velocity, depth, and position on the right and left\n",
    "#edges of each polygon\n",
    "d_left = np.array(d[0:len(d)-1])\n",
    "d_right = np.array(d[1:len(d)])\n",
    "v_left = np.array(v[0:len(v)-1])\n",
    "v_right = np.array(v[1:len(v)])\n",
    "y_left = np.array(y[0:len(y)-1])\n",
    "y_right = np.array(y[1:len(y)])\n",
    "\n",
    "#Now create a new array of incremental discharge by performing mathematical operations that\n",
    "#are performed on all rows of the above arrays at once. When array operations are performed, the\n",
    "#new variable that you are creating does not need to be initialized, as in a for loop.\n",
    "Q_incremental = (d_right+d_left)/2*(v_right+v_left)/2*(y_right-y_left)*100\n",
    "\n",
    "#Now add the incremental discharges together.\n",
    "Q = np.sum(Q_incremental)\n",
    "print(Q)"
   ]
  },
  {
   "cell_type": "markdown",
   "metadata": {},
   "source": [
    "Voila! You should see that all total discharge values are the same! Now go forth and apply your new learning to Strawberry Creek!"
   ]
  },
  {
   "cell_type": "markdown",
   "metadata": {},
   "source": []
  }
 ],
 "metadata": {
  "anaconda-cloud": {},
  "kernelspec": {
   "display_name": "Python [Root]",
   "language": "python",
   "name": "Python [Root]"
  },
  "language_info": {
   "codemirror_mode": {
    "name": "ipython",
    "version": 2
   },
   "file_extension": ".py",
   "mimetype": "text/x-python",
   "name": "python",
   "nbconvert_exporter": "python",
   "pygments_lexer": "ipython2",
   "version": "2.7.12"
  }
 },
 "nbformat": 4,
 "nbformat_minor": 1
}

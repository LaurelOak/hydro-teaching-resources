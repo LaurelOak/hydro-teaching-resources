{
 "cells": [
  {
   "cell_type": "markdown",
   "metadata": {},
   "source": [
    "# Jan 31, 2017 class: Precipitation"
   ]
  },
  {
   "cell_type": "code",
   "execution_count": 1,
   "metadata": {
    "collapsed": true
   },
   "outputs": [],
   "source": [
    "# Import numerical tools\n",
    "import numpy as np"
   ]
  },
  {
   "cell_type": "markdown",
   "metadata": {},
   "source": [
    "Here I will enter the weather data I downloaded for today."
   ]
  },
  {
   "cell_type": "code",
   "execution_count": 2,
   "metadata": {
    "collapsed": true
   },
   "outputs": [],
   "source": [
    "TnoonF = 61 #Temperature at noon (really 1pm) in Farenheit\n",
    "TnightF = 54 #Temperature at 4am in Farenheit\n",
    "RHnoon = 0.62 #Relative humidity at noon (really 1pm)\n",
    "RHnight = 0.96 #Relative humidity at 4 am\n",
    "Tdp_noonF = 48 #Dew point at noon (really 1pm) in Farenheit\n",
    "Tdp_nightF = 40 #Dew point at 4 am, Farenheit\n"
   ]
  },
  {
   "cell_type": "markdown",
   "metadata": {},
   "source": [
    "Let's convert all of the Farenheit data to Celsius by creating a module (i.e., a function)."
   ]
  },
  {
   "cell_type": "code",
   "execution_count": 3,
   "metadata": {
    "collapsed": true
   },
   "outputs": [],
   "source": [
    "def FtoC(TF):\n",
    "    \"\"\"\n",
    "    Takes the temperature in Farenheit (TF) as input and returns it in Celsius (TC)\n",
    "    \"\"\"\n",
    "    TC = (TF-32)*5/9\n",
    "    return TC"
   ]
  },
  {
   "cell_type": "markdown",
   "metadata": {},
   "source": [
    "Now we'll apply that function to our temperature data in Farenheit"
   ]
  },
  {
   "cell_type": "code",
   "execution_count": 4,
   "metadata": {
    "collapsed": false
   },
   "outputs": [
    {
     "name": "stdout",
     "output_type": "stream",
     "text": [
      "16.11111111111111\n"
     ]
    }
   ],
   "source": [
    "TnoonC = FtoC(TnoonF)\n",
    "TnightC = FtoC(TnightF)\n",
    "Tdp_noonC = FtoC(Tdp_noonF)\n",
    "Tdp_nightC = FtoC(Tdp_nightF)\n",
    "print(TnoonC) #Just checking to make sure it looks reasonable--always a good idea!"
   ]
  },
  {
   "cell_type": "markdown",
   "metadata": {},
   "source": [
    "What is today's pressure in Pa?"
   ]
  },
  {
   "cell_type": "code",
   "execution_count": 5,
   "metadata": {
    "collapsed": false
   },
   "outputs": [
    {
     "name": "stdout",
     "output_type": "stream",
     "text": [
      "101997.729456\n"
     ]
    }
   ],
   "source": [
    "Pinches = 30.12 #pressure in inches\n",
    "Pmm = 30.12*25.4 #There are 25.4 mm in an inch\n",
    "PPa = Pmm*133.322\n",
    "print(PPa)"
   ]
  },
  {
   "cell_type": "markdown",
   "metadata": {},
   "source": [
    "Now let's make a module for the Clausius-Clapeyron approximation."
   ]
  },
  {
   "cell_type": "code",
   "execution_count": 6,
   "metadata": {
    "collapsed": true
   },
   "outputs": [],
   "source": [
    "def CC_esat(TC):\n",
    "    \"\"\"\n",
    "    Takes the temperature in Celsius (TC) as input and returns the \n",
    "    saturation vapor pressure in kPa\n",
    "    \"\"\"\n",
    "    esat = 0.61078*np.exp(17.27*TC/(TC+237.3)) #the \"e\" function comes from the numpy library\n",
    "    return esat"
   ]
  },
  {
   "cell_type": "markdown",
   "metadata": {},
   "source": [
    "Now we can feed this equation today's temperatures to calculate the saturation vapor pressure."
   ]
  },
  {
   "cell_type": "code",
   "execution_count": 7,
   "metadata": {
    "collapsed": false
   },
   "outputs": [
    {
     "name": "stdout",
     "output_type": "stream",
     "text": [
      "1.83117137191\n",
      "1.42320208583\n"
     ]
    }
   ],
   "source": [
    "esat_noon = CC_esat(TnoonC) #saturation vapor pressure at noon\n",
    "esat_night = CC_esat(TnightC) #saturation vapor pressure at 4 am\n",
    "print(esat_noon)\n",
    "print(esat_night)"
   ]
  },
  {
   "cell_type": "markdown",
   "metadata": {},
   "source": [
    "Let's now figure out actual vapor pressure from the relative humidity."
   ]
  },
  {
   "cell_type": "code",
   "execution_count": 8,
   "metadata": {
    "collapsed": false
   },
   "outputs": [
    {
     "name": "stdout",
     "output_type": "stream",
     "text": [
      "1.13532625058\n",
      "1.3662740024\n"
     ]
    }
   ],
   "source": [
    "ed_noon = esat_noon*RHnoon #in kPa\n",
    "ed_night = esat_night*RHnight #in kPa\n",
    "print(ed_noon)\n",
    "print(ed_night)"
   ]
  },
  {
   "cell_type": "markdown",
   "metadata": {},
   "source": [
    "Finally, let us convert the vapor pressures to mass in grams. Humidity in g/m<sup>3</sup> is called the **absolute humidity.** We will do this using the ideal gas law, p=$\\rho$RT. We need to solve this for the molar density and then convert it to a mass density."
   ]
  },
  {
   "cell_type": "code",
   "execution_count": 9,
   "metadata": {
    "collapsed": false
   },
   "outputs": [
    {
     "name": "stdout",
     "output_type": "stream",
     "text": [
      "8.50475144674\n",
      "10.3742594189\n"
     ]
    }
   ],
   "source": [
    "#First, let's enter some constants.\n",
    "R = 8.314 #m3 Pa K−1 mol−1 We're going to need to do some more units conversions!\n",
    "rho_noon = (ed_noon*1000)/(R*(TnoonC+273.15)) #now this is in moles/m^3\n",
    "rho_night = (ed_night*1000)/(R*(TnightC+273.15))\n",
    "\n",
    "#Now we will convert the molar densities to mass densities\n",
    "MW_H2O = 18.01528 #grams of water per mole\n",
    "m_noon = rho_noon*MW_H2O #grams per m^3\n",
    "m_night = rho_night*MW_H2O\n",
    "print(m_noon)\n",
    "print(m_night)"
   ]
  },
  {
   "cell_type": "markdown",
   "metadata": {},
   "source": [
    "Is the atmosphere at equilibrium with respect to water vapor content? Let's find out by solving for the actual vapor pressure from the dewpoint. Note that we can do this by plugging the dewpoint in to our saturation vapor pressure approximator above."
   ]
  },
  {
   "cell_type": "code",
   "execution_count": 10,
   "metadata": {
    "collapsed": false
   },
   "outputs": [
    {
     "name": "stdout",
     "output_type": "stream",
     "text": [
      "1.13943402461\n",
      "0.839027797904\n"
     ]
    }
   ],
   "source": [
    "ed_act_noon = CC_esat(Tdp_noonC) #in kPa\n",
    "ed_act_night = CC_esat(Tdp_nightC) #in kPa\n",
    "print(ed_act_noon)\n",
    "print(ed_act_night)"
   ]
  },
  {
   "cell_type": "markdown",
   "metadata": {},
   "source": [
    "What might be some causes of the discrepancy? Hint: Think about water balances."
   ]
  },
  {
   "cell_type": "code",
   "execution_count": null,
   "metadata": {
    "collapsed": false
   },
   "outputs": [],
   "source": []
  }
 ],
 "metadata": {
  "anaconda-cloud": {},
  "kernelspec": {
   "display_name": "Python [default]",
   "language": "python",
   "name": "python3"
  },
  "language_info": {
   "codemirror_mode": {
    "name": "ipython",
    "version": 3
   },
   "file_extension": ".py",
   "mimetype": "text/x-python",
   "name": "python",
   "nbconvert_exporter": "python",
   "pygments_lexer": "ipython3",
   "version": "3.5.2"
  }
 },
 "nbformat": 4,
 "nbformat_minor": 1
}
